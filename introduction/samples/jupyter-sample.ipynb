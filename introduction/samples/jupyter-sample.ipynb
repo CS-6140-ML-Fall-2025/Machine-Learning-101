{
 "cells": [
  {
   "cell_type": "markdown",
   "metadata": {},
   "source": [
    "# 🌸 Your First ML Model in Jupyter Notebook\n",
    "\n",
    "**What you'll build**: A flower species classifier that predicts iris flowers from measurements.\n",
    "\n",
    "**How to use**:\n",
    "1. Install packages: `pip install scikit-learn numpy`\n",
    "2. Run each cell: Press Shift + Enter\n",
    "3. Save your work: Ctrl+S (or Cmd+S on Mac)\n",
    "\n",
    "**Time needed**: 5-10 minutes"
   ]
  },
  {
   "cell_type": "markdown",
   "metadata": {},
   "source": [
    "## Step 1: Import Libraries"
   ]
  },
  {
   "cell_type": "code",
   "execution_count": null,
   "metadata": {},
   "outputs": [],
   "source": [
    "# Import what we need\n",
    "from sklearn.datasets import load_iris\n",
    "from sklearn.ensemble import RandomForestClassifier\n",
    "from sklearn.model_selection import train_test_split\n",
    "from sklearn.metrics import accuracy_score\n",
    "import numpy as np\n",
    "\n",
    "print(\"✅ Libraries imported!\")\n",
    "print(\"🚀 Ready to build your ML model!\")"
   ]
  },
  {
   "cell_type": "markdown",
   "metadata": {},
   "source": [
    "## Step 2: Load Data"
   ]
  },
  {
   "cell_type": "code",
   "execution_count": null,
   "metadata": {},
   "outputs": [],
   "source": [
    "# Load flower data\n",
    "print(\"🌸 Loading iris flower dataset...\")\n",
    "data = load_iris()\n",
    "X, y = data.data, data.target\n",
    "\n",
    "print(f\"📊 Loaded {len(X)} flower samples\")\n",
    "print(f\"🏷️ Species: {list(data.target_names)}\")\n",
    "print(f\"📏 Features: sepal length, sepal width, petal length, petal width\")"
   ]
  },
  {
   "cell_type": "markdown",
   "metadata": {},
   "source": [
    "## Step 3: Split Data"
   ]
  },
  {
   "cell_type": "code",
   "execution_count": null,
   "metadata": {},
   "outputs": [],
   "source": [
    "# Split data for training and testing\n",
    "X_train, X_test, y_train, y_test = train_test_split(X, y, test_size=0.3, random_state=42)\n",
    "\n",
    "print(f\"📚 Training set: {len(X_train)} flowers\")\n",
    "print(f\"🧪 Test set: {len(X_test)} flowers\")"
   ]
  },
  {
   "cell_type": "markdown",
   "metadata": {},
   "source": [
    "## Step 4: Train Model"
   ]
  },
  {
   "cell_type": "code",
   "execution_count": null,
   "metadata": {},
   "outputs": [],
   "source": [
    "# Create and train the model\n",
    "print(\"🤖 Training machine learning model...\")\n",
    "model = RandomForestClassifier(random_state=42)\n",
    "model.fit(X_train, y_train)\n",
    "\n",
    "print(\"✅ Model trained successfully!\")"
   ]
  },
  {
   "cell_type": "markdown",
   "metadata": {},
   "source": [
    "## Step 5: Test Model"
   ]
  },
  {
   "cell_type": "code",
   "execution_count": null,
   "metadata": {},
   "outputs": [],
   "source": [
    "# Test the model\n",
    "predictions = model.predict(X_test)\n",
    "accuracy = accuracy_score(y_test, predictions)\n",
    "\n",
    "print(f\"🎯 Model accuracy: {accuracy:.1%}\")\n",
    "print(\"📊 Great! The model can identify flower species!\")"
   ]
  },
  {
   "cell_type": "markdown",
   "metadata": {},
   "source": [
    "## Step 6: Make Predictions"
   ]
  },
  {
   "cell_type": "code",
   "execution_count": null,
   "metadata": {},
   "outputs": [],
   "source": [
    "# Try predicting new flowers\n",
    "print(\"🔮 Predicting new flowers...\")\n",
    "\n",
    "new_flowers = np.array([\n",
    "    [5.1, 3.5, 1.4, 0.2],  # Small petals\n",
    "    [6.2, 2.8, 4.8, 1.8],  # Large petals\n",
    "    [5.7, 2.8, 4.1, 1.3]   # Medium petals\n",
    "])\n",
    "\n",
    "predictions = model.predict(new_flowers)\n",
    "\n",
    "for i, (flower, pred) in enumerate(zip(new_flowers, predictions)):\n",
    "    species = data.target_names[pred]\n",
    "    print(f\"🌺 Flower {i+1}: {flower} → {species}\")\n",
    "\n",
    "print(\"\\n✨ Success! Your ML model is working!\")"
   ]
  },
  {
   "cell_type": "markdown",
   "metadata": {},
   "source": [
    "## 💻 Jupyter Tip"
   ]
  },
  {
   "cell_type": "code",
   "execution_count": null,
   "metadata": {},
   "outputs": [],
   "source": [
    "# Save your model locally (Jupyter advantage!)\n",
    "import pickle\n",
    "\n",
    "# Save the model\n",
    "with open('iris_model.pkl', 'wb') as f:\n",
    "    pickle.dump(model, f)\n",
    "\n",
    "print(\"💾 Model saved as 'iris_model.pkl'\")\n",
    "print(\"🔄 Load it later with:\")\n",
    "print(\"   with open('iris_model.pkl', 'rb') as f:\")\n",
    "print(\"       model = pickle.load(f)\")\n",
    "\n",
    "print(\"\\n💻 Local advantages:\")\n",
    "print(\"✅ Files saved to your computer\")\n",
    "print(\"✅ No internet required\")\n",
    "print(\"✅ Built into Python (no extra installs)\")"
   ]
  },
  {
   "cell_type": "markdown",
   "metadata": {},
   "source": [
    "## 🎉 Congratulations!\n",
    "\n",
    "You built your first ML model in Jupyter!\n",
    "\n",
    "### What you learned:\n",
    "✅ Load data from sklearn  \n",
    "✅ Split data for training/testing  \n",
    "✅ Train a RandomForest model  \n",
    "✅ Test model accuracy  \n",
    "✅ Make predictions on new data  \n",
    "✅ Save models locally  \n",
    "\n",
    "### Next steps:\n",
    "🚀 Try different algorithms  \n",
    "🚀 Work with your own datasets  \n",
    "🚀 Learn data visualization  \n",
    "🚀 Explore advanced features  \n",
    "\n",
    "**Happy learning!** 🎓✨"
   ]
  }
 ],
 "metadata": {
  "kernelspec": {
   "display_name": "Python 3",
   "language": "python",
   "name": "python3"
  },
  "language_info": {
   "codemirror_mode": {
    "name": "ipython",
    "version": 3
   },
   "file_extension": ".py",
   "mimetype": "text/x-python",
   "name": "python",
   "nbconvert_exporter": "python",
   "pygments_lexer": "ipython3",
   "version": "3.8.5"
  }
 },
 "nbformat": 4,
 "nbformat_minor": 4
}